{
 "cells": [
  {
   "cell_type": "markdown",
   "metadata": {},
   "source": [
    "# Collaboration and Competition\n",
    "\n",
    "---\n",
    "\n",
    "In this notebook, you will learn how to use the Unity ML-Agents environment for the third project of the [Deep Reinforcement Learning Nanodegree](https://www.udacity.com/course/deep-reinforcement-learning-nanodegree--nd893) program.\n",
    "\n",
    "### 1. Start the Environment\n",
    "\n",
    "We begin by importing the necessary packages.  If the code cell below returns an error, please revisit the project instructions to double-check that you have installed [Unity ML-Agents](https://github.com/Unity-Technologies/ml-agents/blob/master/docs/Installation.md) and [NumPy](http://www.numpy.org/)."
   ]
  },
  {
   "cell_type": "code",
   "execution_count": 1,
   "metadata": {},
   "outputs": [],
   "source": [
    "from unityagents import UnityEnvironment\n",
    "import numpy as np"
   ]
  },
  {
   "cell_type": "markdown",
   "metadata": {},
   "source": [
    "Next, we will start the environment!  **_Before running the code cell below_**, change the `file_name` parameter to match the location of the Unity environment that you downloaded.\n",
    "\n",
    "- **Mac**: `\"path/to/Tennis.app\"`\n",
    "- **Windows** (x86): `\"path/to/Tennis_Windows_x86/Tennis.exe\"`\n",
    "- **Windows** (x86_64): `\"path/to/Tennis_Windows_x86_64/Tennis.exe\"`\n",
    "- **Linux** (x86): `\"path/to/Tennis_Linux/Tennis.x86\"`\n",
    "- **Linux** (x86_64): `\"path/to/Tennis_Linux/Tennis.x86_64\"`\n",
    "- **Linux** (x86, headless): `\"path/to/Tennis_Linux_NoVis/Tennis.x86\"`\n",
    "- **Linux** (x86_64, headless): `\"path/to/Tennis_Linux_NoVis/Tennis.x86_64\"`\n",
    "\n",
    "For instance, if you are using a Mac, then you downloaded `Tennis.app`.  If this file is in the same folder as the notebook, then the line below should appear as follows:\n",
    "```\n",
    "env = UnityEnvironment(file_name=\"Tennis.app\")\n",
    "```"
   ]
  },
  {
   "cell_type": "code",
   "execution_count": 2,
   "metadata": {},
   "outputs": [
    {
     "name": "stderr",
     "output_type": "stream",
     "text": [
      "INFO:unityagents:\n",
      "'Academy' started successfully!\n",
      "Unity Academy name: Academy\n",
      "        Number of Brains: 1\n",
      "        Number of External Brains : 1\n",
      "        Lesson number : 0\n",
      "        Reset Parameters :\n",
      "\t\t\n",
      "Unity brain name: TennisBrain\n",
      "        Number of Visual Observations (per agent): 0\n",
      "        Vector Observation space type: continuous\n",
      "        Vector Observation space size (per agent): 8\n",
      "        Number of stacked Vector Observation: 3\n",
      "        Vector Action space type: continuous\n",
      "        Vector Action space size (per agent): 2\n",
      "        Vector Action descriptions: , \n"
     ]
    }
   ],
   "source": [
    "env = UnityEnvironment(file_name=\"Tennis_Linux/Tennis.x86_64\")"
   ]
  },
  {
   "cell_type": "markdown",
   "metadata": {},
   "source": [
    "Environments contain **_brains_** which are responsible for deciding the actions of their associated agents. Here we check for the first brain available, and set it as the default brain we will be controlling from Python."
   ]
  },
  {
   "cell_type": "code",
   "execution_count": 3,
   "metadata": {},
   "outputs": [],
   "source": [
    "# get the default brain\n",
    "brain_name = env.brain_names[0]\n",
    "brain = env.brains[brain_name]"
   ]
  },
  {
   "cell_type": "markdown",
   "metadata": {},
   "source": [
    "### 2. Examine the State and Action Spaces\n",
    "\n",
    "In this environment, two agents control rackets to bounce a ball over a net. If an agent hits the ball over the net, it receives a reward of +0.1.  If an agent lets a ball hit the ground or hits the ball out of bounds, it receives a reward of -0.01.  Thus, the goal of each agent is to keep the ball in play.\n",
    "\n",
    "The observation space consists of 8 variables corresponding to the position and velocity of the ball and racket. Two continuous actions are available, corresponding to movement toward (or away from) the net, and jumping. \n",
    "\n",
    "Run the code cell below to print some information about the environment."
   ]
  },
  {
   "cell_type": "code",
   "execution_count": 4,
   "metadata": {},
   "outputs": [
    {
     "name": "stdout",
     "output_type": "stream",
     "text": [
      "Number of agents: 2\n",
      "Size of each action: 2\n",
      "There are 2 agents. Each observes a state with length: 24\n",
      "The state for the first agent looks like: [ 0.          0.          0.          0.          0.          0.\n",
      "  0.          0.          0.          0.          0.          0.\n",
      "  0.          0.          0.          0.         -6.65278625 -1.5\n",
      " -0.          0.          6.83172083  6.         -0.          0.        ]\n"
     ]
    }
   ],
   "source": [
    "# reset the environment\n",
    "env_info = env.reset(train_mode=True)[brain_name]\n",
    "\n",
    "# number of agents \n",
    "num_agents = len(env_info.agents)\n",
    "print('Number of agents:', num_agents)\n",
    "\n",
    "# size of each action\n",
    "action_size = brain.vector_action_space_size\n",
    "print('Size of each action:', action_size)\n",
    "\n",
    "# examine the state space \n",
    "states = env_info.vector_observations\n",
    "state_size = states.shape[1]\n",
    "print('There are {} agents. Each observes a state with length: {}'.format(states.shape[0], state_size))\n",
    "print('The state for the first agent looks like:', states[0])"
   ]
  },
  {
   "cell_type": "markdown",
   "metadata": {},
   "source": [
    "### 3. Take Random Actions in the Environment\n",
    "\n",
    "In the next code cell, you will learn how to use the Python API to control the agents and receive feedback from the environment.\n",
    "\n",
    "Once this cell is executed, you will watch the agents' performance, if they select actions at random with each time step.  A window should pop up that allows you to observe the agents.\n",
    "\n",
    "Of course, as part of the project, you'll have to change the code so that the agents are able to use their experiences to gradually choose better actions when interacting with the environment!"
   ]
  },
  {
   "cell_type": "code",
   "execution_count": null,
   "metadata": {},
   "outputs": [],
   "source": [
    "for i in range(1, 6):                                      # play game for 5 episodes\n",
    "    env_info = env.reset(train_mode=False)[brain_name]     # reset the environment    \n",
    "    states = env_info.vector_observations                  # get the current state (for each agent)\n",
    "    scores = np.zeros(num_agents)                          # initialize the score (for each agent)\n",
    "    while True:\n",
    "        actions = np.random.randn(num_agents, action_size) # select an action (for each agent)\n",
    "        actions = np.clip(actions, -1, 1)                  # all actions between -1 and 1\n",
    "        print(actions.shape)\n",
    "        env_info = env.step(actions)[brain_name]           # send all actions to tne environment\n",
    "        next_states = env_info.vector_observations         # get next state (for each agent)\n",
    "        rewards = env_info.rewards                         # get reward (for each agent)\n",
    "        dones = env_info.local_done                        # see if episode finished\n",
    "        scores += env_info.rewards                         # update the score (for each agent)\n",
    "        states = next_states                               # roll over states to next time step\n",
    "        if np.any(dones):                                  # exit loop if episode finished\n",
    "            break\n",
    "    print('Score (max over agents) from episode {}: {}'.format(i, np.max(scores)))"
   ]
  },
  {
   "cell_type": "markdown",
   "metadata": {},
   "source": [
    "When finished, you can close the environment."
   ]
  },
  {
   "cell_type": "code",
   "execution_count": 6,
   "metadata": {},
   "outputs": [],
   "source": [
    "env.close()"
   ]
  },
  {
   "cell_type": "markdown",
   "metadata": {},
   "source": [
    "### 4. It's Your Turn!\n",
    "\n",
    "Now it's your turn to train your own agent to solve the environment!  When training the environment, set `train_mode=True`, so that the line for resetting the environment looks like the following:\n",
    "```python\n",
    "env_info = env.reset(train_mode=True)[brain_name]\n",
    "```"
   ]
  },
  {
   "cell_type": "code",
   "execution_count": 1,
   "metadata": {},
   "outputs": [
    {
     "name": "stderr",
     "output_type": "stream",
     "text": [
      "INFO:unityagents:\n",
      "'Academy' started successfully!\n",
      "Unity Academy name: Academy\n",
      "        Number of Brains: 1\n",
      "        Number of External Brains : 1\n",
      "        Lesson number : 0\n",
      "        Reset Parameters :\n",
      "\t\t\n",
      "Unity brain name: TennisBrain\n",
      "        Number of Visual Observations (per agent): 0\n",
      "        Vector Observation space type: continuous\n",
      "        Vector Observation space size (per agent): 8\n",
      "        Number of stacked Vector Observation: 3\n",
      "        Vector Action space type: continuous\n",
      "        Vector Action space size (per agent): 2\n",
      "        Vector Action descriptions: , \n"
     ]
    }
   ],
   "source": [
    "from unityagents import UnityEnvironment\n",
    "import numpy as np\n",
    "\n",
    "env = UnityEnvironment(file_name=\"Tennis_Linux/Tennis.x86_64\")"
   ]
  },
  {
   "cell_type": "code",
   "execution_count": 4,
   "metadata": {},
   "outputs": [],
   "source": [
    "# get the default brain\n",
    "brain_name = env.brain_names[0]\n",
    "brain = env.brains[brain_name]"
   ]
  },
  {
   "cell_type": "code",
   "execution_count": 5,
   "metadata": {},
   "outputs": [
    {
     "name": "stdout",
     "output_type": "stream",
     "text": [
      "Number of agents: 2\n",
      "Size of each action: 2\n",
      "(2, 24)\n",
      "There are 2 agents. Each observes a state with length: 24\n",
      "The state for the first agent looks like: [ 0.          0.          0.          0.          0.          0.\n",
      "  0.          0.          0.          0.          0.          0.\n",
      "  0.          0.          0.          0.         -6.65278625 -1.5\n",
      " -0.          0.          6.83172083  6.         -0.          0.        ]\n"
     ]
    }
   ],
   "source": [
    "# reset the environment\n",
    "env_info = env.reset(train_mode=True)[brain_name]\n",
    "\n",
    "# number of agents \n",
    "num_agents = len(env_info.agents)\n",
    "print('Number of agents:', num_agents)\n",
    "\n",
    "# size of each action\n",
    "action_size = brain.vector_action_space_size\n",
    "print('Size of each action:', action_size)\n",
    "\n",
    "# examine the state space \n",
    "states = env_info.vector_observations\n",
    "state_size = states.shape[1]\n",
    "print(states.shape)\n",
    "print('There are {} agents. Each observes a state with length: {}'.format(states.shape[0], state_size))\n",
    "print('The state for the first agent looks like:', states[0])"
   ]
  },
  {
   "cell_type": "code",
   "execution_count": 6,
   "metadata": {},
   "outputs": [],
   "source": [
    "from utils.utilities import transpose_list, transpose_to_tensor\n",
    "from utils.buffer import ReplayBuffer\n",
    "\n",
    "from collections import deque\n",
    "import os\n",
    "\n",
    "import torch\n",
    "\n",
    "BUFFER_SIZE = int(1e6)  # replay buffer size\n",
    "BATCH_SIZE = 256         # minibatch size\n",
    "LEARNING_STEPS = 15\n",
    "LEARN_EACH = 20\n",
    "\n",
    "model_dir= os.getcwd()+\"/checkpoints\"\n",
    "\n",
    "def run_experiment(agent, n_episodes=10000, agent_ckp_prefix='agent', critic_ckp_prefix='critic'):    \n",
    "    scores_agent = [list() for i in range(num_agents)]\n",
    "    rolling_average = [list() for i in range(num_agents)]\n",
    "    scores_deque = [deque(maxlen = 100) for i in range(num_agents)]\n",
    "     \n",
    "    max_scores_deque = deque(maxlen = 100)\n",
    "    max_scores_list = []\n",
    "    prv_avg_score = 0 \n",
    "    average_score = 0\n",
    "    max_average_score = 0\n",
    "\n",
    "    # amplitude of OU noise\n",
    "    # this slowly decreases to 0\n",
    "    noise = 1.0\n",
    "    noise_reduction = 0.9995\n",
    "    noise_reduction_end = 0.1\n",
    "    episodes_before_training=10\n",
    "    steps_before_noise_reduction = 1000\n",
    "    step = 0\n",
    "\n",
    "    buffer = ReplayBuffer(BUFFER_SIZE)\n",
    "    \n",
    "    for i_episode in range(1, episodes_before_training+n_episodes+1):\n",
    "        env_info = env.reset(train_mode=True)[brain_name]     # reset the environment    \n",
    "        obs = env_info.vector_observations                 # get the current state (2,24)\n",
    "        states = [agent_state for agent_state in obs]    # make a list \n",
    "        score = np.zeros(num_agents)\n",
    "        agent.reset()\n",
    "\n",
    "        while True:\n",
    "            if i_episode <= episodes_before_training:\n",
    "                actions_array = np.random.uniform(-1, 1, 4).reshape(num_agents, action_size) \n",
    "            else:\n",
    "                actions = agent.act(transpose_to_tensor([states]), noise=noise)        # each agent choose the actions\n",
    "                actions_array = torch.stack(actions).detach().numpy().squeeze()                 # numpy array from ations\n",
    "        \n",
    "            env_info = env.step(actions_array)[brain_name]              # The environment accepts full actions\n",
    "    \n",
    "            next_obs = env_info.vector_observations                     # get next observations\n",
    "            next_states = [agent_state for agent_state in next_obs]     # reshape them into a list \n",
    "    \n",
    "            rewards = np.array(env_info.rewards) \n",
    "            dones = np.array(env_info.local_done)\n",
    "\n",
    "            # add data to buffer\n",
    "            transition = ([states, actions_array, rewards, next_states, dones])\n",
    "            buffer.push(transition)\n",
    "                        \n",
    "            score += rewards\n",
    "            states = next_states # after each timestep update the obs to the new obs before restarting the loop\n",
    "            \n",
    "            if np.any(dones):                                  # exit loop if episode finished\n",
    "                break\n",
    "                \n",
    "            if (len(buffer) >= BATCH_SIZE) and i_episode > episodes_before_training and step % LEARN_EACH == 0: # Learn\n",
    "                for _ in range(LEARNING_STEPS):\n",
    "                    for agent_num in range(num_agents): \n",
    "                        samples = buffer.sample(BATCH_SIZE) # sample the buffer\n",
    "                        agent.update(samples, agent_num)   # update the agent\n",
    "        \n",
    "            if i_episode > episodes_before_training:\n",
    "                step += 1\n",
    "\n",
    "        for agent_num in range(num_agents):\n",
    "            scores_agent[agent_num].append(score[agent_num])\n",
    "            scores_deque[agent_num].append(score[agent_num])\n",
    "            rolling_average[agent_num].append(np.mean(scores_deque[agent_num]))\n",
    "            \n",
    "        max_scores = np.max(score)       \n",
    "        max_scores_deque.append(max_scores)\n",
    "        max_scores_list.append(max_scores)\n",
    "        average_score = np.mean(max_scores_deque)\n",
    "        \n",
    "        if i_episode > episodes_before_training and step > steps_before_noise_reduction:\n",
    "            noise = max(noise * noise_reduction, noise_reduction_end)\n",
    "        \n",
    "        if i_episode > episodes_before_training and i_episode % 100 == 0:\n",
    "            print('\\rEpisode {}\\tAverage Score: {:.4f}\\tSteps: {}\\tNoise scale: {:.4f}'.format(i_episode, average_score,step, noise))\n",
    "        if i_episode <= episodes_before_training:\n",
    "            print(\"\\rSave expreriences from random play\", end='')\n",
    "            if i_episode == episodes_before_training:\n",
    "                print(\"\\t....Done\")\n",
    "\n",
    "                \n",
    "        # We can break if the max between the average scores is >= 0.5\n",
    "        if np.max(rolling_average) >= 0.5:\n",
    "            agent.save(agent_ckp_prefix, critic_ckp_prefix)\n",
    "            print('\\rEnvironment solved Episode {}\\tAverage Score: {:.4f}'.format(i_episode, np.mean(scores_deque))) \n",
    "            break\n",
    "\n",
    "    return scores_agent, rolling_average"
   ]
  },
  {
   "cell_type": "code",
   "execution_count": 5,
   "metadata": {},
   "outputs": [
    {
     "name": "stdout",
     "output_type": "stream",
     "text": [
      "Agent created.\n"
     ]
    }
   ],
   "source": [
    "from multi_agents.maddpg import MADDPG\n",
    "\n",
    "\n",
    "agent = MADDPG(state_size, action_size, random_seed = 33, num_agents=num_agents)\n",
    "print(\"Agent created.\")"
   ]
  },
  {
   "cell_type": "code",
   "execution_count": 7,
   "metadata": {},
   "outputs": [
    {
     "name": "stdout",
     "output_type": "stream",
     "text": [
      "Save expreriences from random play\t....Done\n",
      "Episode 100\tAverage Score: 0.0020\tSteps: 1192\n",
      "Episode 200\tAverage Score: 0.0010\tSteps: 2537\n",
      "Episode 300\tAverage Score: 0.0000\tSteps: 3854\n",
      "Episode 400\tAverage Score: 0.0085\tSteps: 5371\n",
      "Episode 500\tAverage Score: 0.0019\tSteps: 6737\n",
      "Episode 600\tAverage Score: 0.0079\tSteps: 8224\n",
      "Episode 700\tAverage Score: 0.0067\tSteps: 9666\n",
      "Episode 800\tAverage Score: 0.0059\tSteps: 11151\n",
      "Episode 900\tAverage Score: 0.0168\tSteps: 12878\n",
      "Episode 1000\tAverage Score: 0.0197\tSteps: 14846\n",
      "Episode 1100\tAverage Score: 0.0279\tSteps: 16856\n",
      "Episode 1200\tAverage Score: 0.0398\tSteps: 19154\n",
      "Episode 1300\tAverage Score: 0.0574\tSteps: 22011\n",
      "Episode 1400\tAverage Score: 0.0384\tSteps: 24298\n",
      "Episode 1500\tAverage Score: 0.0576\tSteps: 26987\n",
      "Episode 1600\tAverage Score: 0.0840\tSteps: 30480\n",
      "Episode 1700\tAverage Score: 0.1075\tSteps: 34974\n",
      "Episode 1800\tAverage Score: 0.1420\tSteps: 40856\n",
      "Episode 1900\tAverage Score: 0.1441\tSteps: 47052\n",
      "Episode 2000\tAverage Score: 0.1906\tSteps: 55497\n",
      "Episode 2100\tAverage Score: 0.1886\tSteps: 63665\n",
      "Episode 2200\tAverage Score: 0.1871\tSteps: 71741\n",
      "Episode 2300\tAverage Score: 0.1826\tSteps: 79204\n",
      "Episode 2400\tAverage Score: 0.1725\tSteps: 86398\n",
      "Episode 2500\tAverage Score: 0.3597\tSteps: 101236\n",
      "Episode 2600\tAverage Score: 0.4176\tSteps: 118316\n",
      "Episode 2700\tAverage Score: 0.2005\tSteps: 126704\n",
      "Episode 2800\tAverage Score: 0.2616\tSteps: 137488\n",
      "Environment solved Episode 2871\tAverage Score: 0.4911\n"
     ]
    }
   ],
   "source": [
    "agent_scores, agent_scores_avg = run_experiment(agent, agent_ckp_prefix='ddpg_agent', critic_ckp_prefix='ddpg_critic')"
   ]
  },
  {
   "cell_type": "code",
   "execution_count": 8,
   "metadata": {},
   "outputs": [
    {
     "data": {
      "image/png": "[encoded data removed]",
      "text/plain": [
       "<Figure size 432x288 with 1 Axes>"
      ]
     },
     "metadata": {
      "needs_background": "light"
     },
     "output_type": "display_data"
    }
   ],
   "source": [
    "import matplotlib.pyplot as plt\n",
    "%matplotlib inline\n",
    "\n",
    "fig = plt.figure()\n",
    "ax = fig.add_subplot(111)\n",
    "plt.plot(np.arange(1, len(agent_scores[0])+1), agent_scores[0])\n",
    "plt.plot(np.arange(1, len(agent_scores[1])+1), agent_scores[1])\n",
    "plt.plot(np.arange(1, len(agent_scores_avg[0])+1), agent_scores_avg[0])\n",
    "plt.plot(np.arange(1, len(agent_scores_avg[1])+1), agent_scores_avg[1])\n",
    "plt.ylabel('Score')\n",
    "plt.xlabel('Episode #')\n",
    "plt.show()"
   ]
  },
  {
   "cell_type": "code",
   "execution_count": 9,
   "metadata": {},
   "outputs": [],
   "source": [
    "env.close()"
   ]
  },
  {
   "cell_type": "markdown",
   "metadata": {},
   "source": [
    "#  TD3"
   ]
  },
  {
   "cell_type": "code",
   "execution_count": 7,
   "metadata": {},
   "outputs": [
    {
     "name": "stdout",
     "output_type": "stream",
     "text": [
      "Agent created.\n"
     ]
    }
   ],
   "source": [
    "from multi_agents.matd3 import MATD3\n",
    "\n",
    "\n",
    "agent = MATD3(state_size, action_size, random_seed = 33, num_agents=num_agents, policy_noise=0.1)\n",
    "print(\"Agent created.\")"
   ]
  },
  {
   "cell_type": "code",
   "execution_count": 8,
   "metadata": {},
   "outputs": [
    {
     "name": "stdout",
     "output_type": "stream",
     "text": [
      "Save expreriences from random play\t....Done\n",
      "Episode 100\tAverage Score: 0.0019\tSteps: 1211\tNoise scale: 0.9920\n",
      "Episode 200\tAverage Score: 0.0000\tSteps: 2531\tNoise scale: 0.9436\n",
      "Episode 300\tAverage Score: 0.0039\tSteps: 3956\tNoise scale: 0.8976\n",
      "Episode 400\tAverage Score: 0.0069\tSteps: 5419\tNoise scale: 0.8538\n",
      "Episode 500\tAverage Score: 0.0009\tSteps: 6762\tNoise scale: 0.8122\n",
      "Episode 600\tAverage Score: 0.0050\tSteps: 8176\tNoise scale: 0.7725\n",
      "Episode 700\tAverage Score: 0.0000\tSteps: 9496\tNoise scale: 0.7349\n",
      "Episode 800\tAverage Score: 0.0000\tSteps: 10816\tNoise scale: 0.6990\n",
      "Episode 900\tAverage Score: 0.0000\tSteps: 12133\tNoise scale: 0.6649\n",
      "Episode 1000\tAverage Score: 0.0020\tSteps: 13526\tNoise scale: 0.6325\n",
      "Episode 1100\tAverage Score: 0.0154\tSteps: 15150\tNoise scale: 0.6016\n",
      "Episode 1200\tAverage Score: 0.0028\tSteps: 16518\tNoise scale: 0.5723\n",
      "Episode 1300\tAverage Score: 0.0000\tSteps: 17834\tNoise scale: 0.5444\n",
      "Episode 1400\tAverage Score: 0.0000\tSteps: 19161\tNoise scale: 0.5178\n",
      "Episode 1500\tAverage Score: 0.0000\tSteps: 20481\tNoise scale: 0.4925\n",
      "Episode 1600\tAverage Score: 0.0000\tSteps: 21801\tNoise scale: 0.4685\n",
      "Episode 1700\tAverage Score: 0.0000\tSteps: 23121\tNoise scale: 0.4457\n",
      "Episode 1800\tAverage Score: 0.0000\tSteps: 24441\tNoise scale: 0.4239\n",
      "Episode 1900\tAverage Score: 0.0000\tSteps: 25761\tNoise scale: 0.4032\n",
      "Episode 2000\tAverage Score: 0.0000\tSteps: 27081\tNoise scale: 0.3836\n",
      "Episode 2100\tAverage Score: 0.0000\tSteps: 28401\tNoise scale: 0.3649\n",
      "Episode 2200\tAverage Score: 0.0000\tSteps: 29721\tNoise scale: 0.3471\n",
      "Episode 2300\tAverage Score: 0.0018\tSteps: 31074\tNoise scale: 0.3301\n",
      "Episode 2400\tAverage Score: 0.0081\tSteps: 32534\tNoise scale: 0.3140\n",
      "Episode 2500\tAverage Score: 0.0144\tSteps: 34122\tNoise scale: 0.2987\n",
      "Episode 2600\tAverage Score: 0.0054\tSteps: 35535\tNoise scale: 0.2841\n",
      "Episode 2700\tAverage Score: 0.0064\tSteps: 37007\tNoise scale: 0.2703\n",
      "Episode 2800\tAverage Score: 0.0064\tSteps: 38459\tNoise scale: 0.2571\n",
      "Episode 2900\tAverage Score: 0.0264\tSteps: 40269\tNoise scale: 0.2445\n",
      "Episode 3000\tAverage Score: 0.0153\tSteps: 41909\tNoise scale: 0.2326\n",
      "Episode 3100\tAverage Score: 0.0281\tSteps: 43763\tNoise scale: 0.2213\n",
      "Episode 3200\tAverage Score: 0.0378\tSteps: 45781\tNoise scale: 0.2105\n",
      "Episode 3300\tAverage Score: 0.0379\tSteps: 47787\tNoise scale: 0.2002\n",
      "Episode 3400\tAverage Score: 0.0441\tSteps: 49920\tNoise scale: 0.1904\n",
      "Episode 3500\tAverage Score: 0.0406\tSteps: 51996\tNoise scale: 0.1812\n",
      "Episode 3600\tAverage Score: 0.0414\tSteps: 54065\tNoise scale: 0.1723\n",
      "Episode 3700\tAverage Score: 0.0477\tSteps: 56238\tNoise scale: 0.1639\n",
      "Episode 3800\tAverage Score: 0.0369\tSteps: 58230\tNoise scale: 0.1559\n",
      "Episode 3900\tAverage Score: 0.0468\tSteps: 60395\tNoise scale: 0.1483\n",
      "Episode 4000\tAverage Score: 0.0468\tSteps: 62561\tNoise scale: 0.1411\n",
      "Episode 4100\tAverage Score: 0.0477\tSteps: 64742\tNoise scale: 0.1342\n",
      "Episode 4200\tAverage Score: 0.0571\tSteps: 67087\tNoise scale: 0.1276\n",
      "Episode 4300\tAverage Score: 0.0407\tSteps: 69162\tNoise scale: 0.1214\n",
      "Episode 4400\tAverage Score: 0.0405\tSteps: 71214\tNoise scale: 0.1155\n",
      "Episode 4500\tAverage Score: 0.0458\tSteps: 73394\tNoise scale: 0.1099\n",
      "Episode 4600\tAverage Score: 0.0435\tSteps: 75491\tNoise scale: 0.1045\n",
      "Episode 4700\tAverage Score: 0.0427\tSteps: 77576\tNoise scale: 0.1000\n",
      "Episode 4800\tAverage Score: 0.0442\tSteps: 79694\tNoise scale: 0.1000\n",
      "Episode 4900\tAverage Score: 0.0408\tSteps: 81769\tNoise scale: 0.1000\n",
      "Episode 5000\tAverage Score: 0.0461\tSteps: 83930\tNoise scale: 0.1000\n",
      "Episode 5100\tAverage Score: 0.0423\tSteps: 86026\tNoise scale: 0.1000\n",
      "Episode 5200\tAverage Score: 0.0489\tSteps: 88204\tNoise scale: 0.1000\n",
      "Episode 5300\tAverage Score: 0.0442\tSteps: 90322\tNoise scale: 0.1000\n",
      "Episode 5400\tAverage Score: 0.0495\tSteps: 92546\tNoise scale: 0.1000\n",
      "Episode 5500\tAverage Score: 0.0514\tSteps: 94802\tNoise scale: 0.1000\n",
      "Episode 5600\tAverage Score: 0.0493\tSteps: 97126\tNoise scale: 0.1000\n",
      "Episode 5700\tAverage Score: 0.0378\tSteps: 99136\tNoise scale: 0.1000\n",
      "Episode 5800\tAverage Score: 0.0859\tSteps: 102788\tNoise scale: 0.1000\n",
      "Episode 5900\tAverage Score: 0.0490\tSteps: 105626\tNoise scale: 0.1000\n",
      "Episode 6000\tAverage Score: 0.0450\tSteps: 108183\tNoise scale: 0.1000\n",
      "Episode 6100\tAverage Score: 0.0517\tSteps: 110772\tNoise scale: 0.1000\n",
      "Episode 6200\tAverage Score: 0.0432\tSteps: 113164\tNoise scale: 0.1000\n",
      "Episode 6300\tAverage Score: 0.0486\tSteps: 115372\tNoise scale: 0.1000\n",
      "Episode 6400\tAverage Score: 0.0432\tSteps: 117483\tNoise scale: 0.1000\n",
      "Episode 6500\tAverage Score: 0.0468\tSteps: 119660\tNoise scale: 0.1000\n",
      "Episode 6600\tAverage Score: 0.0396\tSteps: 121710\tNoise scale: 0.1000\n",
      "Episode 6700\tAverage Score: 0.0450\tSteps: 123849\tNoise scale: 0.1000\n",
      "Episode 6800\tAverage Score: 0.0468\tSteps: 126030\tNoise scale: 0.1000\n",
      "Episode 6900\tAverage Score: 0.0387\tSteps: 128056\tNoise scale: 0.1000\n",
      "Episode 7000\tAverage Score: 0.0468\tSteps: 130235\tNoise scale: 0.1000\n",
      "Episode 7100\tAverage Score: 0.0468\tSteps: 132418\tNoise scale: 0.1000\n",
      "Episode 7200\tAverage Score: 0.0432\tSteps: 134532\tNoise scale: 0.1000\n",
      "Episode 7300\tAverage Score: 0.0432\tSteps: 136649\tNoise scale: 0.1000\n",
      "Episode 7400\tAverage Score: 0.0396\tSteps: 138701\tNoise scale: 0.1000\n",
      "Episode 7500\tAverage Score: 0.0477\tSteps: 140909\tNoise scale: 0.1000\n",
      "Episode 7600\tAverage Score: 0.0459\tSteps: 143081\tNoise scale: 0.1000\n",
      "Episode 7700\tAverage Score: 0.0414\tSteps: 145169\tNoise scale: 0.1000\n",
      "Episode 7800\tAverage Score: 0.0423\tSteps: 147279\tNoise scale: 0.1000\n",
      "Episode 7900\tAverage Score: 0.0378\tSteps: 149302\tNoise scale: 0.1000\n",
      "Episode 8000\tAverage Score: 0.0432\tSteps: 151429\tNoise scale: 0.1000\n",
      "Episode 8100\tAverage Score: 0.0423\tSteps: 153536\tNoise scale: 0.1000\n",
      "Episode 8200\tAverage Score: 0.0360\tSteps: 155533\tNoise scale: 0.1000\n",
      "Episode 8300\tAverage Score: 0.0432\tSteps: 157673\tNoise scale: 0.1000\n",
      "Episode 8400\tAverage Score: 0.0423\tSteps: 159795\tNoise scale: 0.1000\n",
      "Episode 8500\tAverage Score: 0.0387\tSteps: 161844\tNoise scale: 0.1000\n",
      "Episode 8600\tAverage Score: 0.0397\tSteps: 163898\tNoise scale: 0.1000\n",
      "Episode 8700\tAverage Score: 0.0441\tSteps: 166055\tNoise scale: 0.1000\n",
      "Episode 8800\tAverage Score: 0.0441\tSteps: 168203\tNoise scale: 0.1000\n",
      "Episode 8900\tAverage Score: 0.0444\tSteps: 170361\tNoise scale: 0.1000\n",
      "Episode 9000\tAverage Score: 0.0470\tSteps: 172563\tNoise scale: 0.1000\n",
      "Episode 9100\tAverage Score: 0.0504\tSteps: 174831\tNoise scale: 0.1000\n",
      "Episode 9200\tAverage Score: 0.0477\tSteps: 177046\tNoise scale: 0.1000\n",
      "Episode 9300\tAverage Score: 0.0432\tSteps: 179173\tNoise scale: 0.1000\n",
      "Episode 9400\tAverage Score: 0.0558\tSteps: 181542\tNoise scale: 0.1000\n",
      "Episode 9500\tAverage Score: 0.0423\tSteps: 183657\tNoise scale: 0.1000\n",
      "Episode 9600\tAverage Score: 0.0469\tSteps: 185865\tNoise scale: 0.1000\n",
      "Episode 9700\tAverage Score: 0.0371\tSteps: 187877\tNoise scale: 0.1000\n",
      "Episode 9800\tAverage Score: 0.0468\tSteps: 190083\tNoise scale: 0.1000\n",
      "Episode 9900\tAverage Score: 0.0495\tSteps: 192343\tNoise scale: 0.1000\n",
      "Episode 10000\tAverage Score: 0.0522\tSteps: 194650\tNoise scale: 0.1000\n"
     ]
    }
   ],
   "source": [
    "agent_scores, agent_scores_avg = run_experiment(agent, agent_ckp_prefix='td3_agent', critic_ckp_prefix='td3_critic')"
   ]
  },
  {
   "cell_type": "code",
   "execution_count": 9,
   "metadata": {},
   "outputs": [
    {
     "data": {
      "image/png": "[encoded data removed]",
      "text/plain": [
       "<Figure size 432x288 with 1 Axes>"
      ]
     },
     "metadata": {
      "needs_background": "light"
     },
     "output_type": "display_data"
    }
   ],
   "source": [
    "import matplotlib.pyplot as plt\n",
    "%matplotlib inline\n",
    "\n",
    "fig = plt.figure()\n",
    "ax = fig.add_subplot(111)\n",
    "plt.plot(np.arange(1, len(agent_scores[0])+1), agent_scores[0])\n",
    "plt.plot(np.arange(1, len(agent_scores[1])+1), agent_scores[1])\n",
    "plt.plot(np.arange(1, len(agent_scores_avg[0])+1), agent_scores_avg[0])\n",
    "plt.plot(np.arange(1, len(agent_scores_avg[1])+1), agent_scores_avg[1])\n",
    "plt.ylabel('Score')\n",
    "plt.xlabel('Episode #')\n",
    "plt.show()"
   ]
  },
  {
   "cell_type": "code",
   "execution_count": 10,
   "metadata": {},
   "outputs": [],
   "source": [
    "env.close()"
   ]
  },
  {
   "cell_type": "code",
   "execution_count": null,
   "metadata": {},
   "outputs": [],
   "source": []
  },
  {
   "cell_type": "code",
   "execution_count": null,
   "metadata": {},
   "outputs": [],
   "source": []
  },
  {
   "cell_type": "code",
   "execution_count": null,
   "metadata": {},
   "outputs": [],
   "source": []
  },
  {
   "cell_type": "markdown",
   "metadata": {},
   "source": [
    "## Play with the agent"
   ]
  },
  {
   "cell_type": "code",
   "execution_count": 5,
   "metadata": {},
   "outputs": [],
   "source": [
    "from multi_agents.maddpg import MADDPG\n",
    "\n",
    "agent = MADDPG(state_size, action_size, random_seed = 33, num_agents=num_agents)\n",
    "agent.load(agent_ckp_prefix='agent', critic_ckp_prefix='critic')"
   ]
  },
  {
   "cell_type": "code",
   "execution_count": 6,
   "metadata": {},
   "outputs": [
    {
     "name": "stdout",
     "output_type": "stream",
     "text": [
      "Score (max over agents) from episode 1: 0.20000000298023224\n",
      "Score (max over agents) from episode 2: 0.09000000171363354\n",
      "Score (max over agents) from episode 3: 0.10000000149011612\n",
      "Score (max over agents) from episode 4: 1.0000000149011612\n",
      "Score (max over agents) from episode 5: 0.09000000171363354\n"
     ]
    }
   ],
   "source": [
    "for i in range(1, 6):                                      # play game for 5 episodes\n",
    "    env_info = env.reset(train_mode=False)[brain_name]     # reset the environment    \n",
    "    states = env_info.vector_observations                  # get the current state (for each agent)\n",
    "    scores = np.zeros(num_agents)                          # initialize the score (for each agent)\n",
    "    while True:\n",
    "        actions = agent.act(transpose_to_tensor([states]), noise=0.0)        # each agent choose the actions\n",
    "        actions_array = torch.stack(actions).detach().numpy().squeeze()                 # numpy array from ations\n",
    "        \n",
    "        env_info = env.step(actions_array)[brain_name]              # The environment accepts full actions\n",
    "        next_states = env_info.vector_observations         # get next state (for each agent)\n",
    "        rewards = env_info.rewards                         # get reward (for each agent)\n",
    "        dones = env_info.local_done                        # see if episode finished\n",
    "        scores += env_info.rewards                         # update the score (for each agent)\n",
    "        states = next_states                               # roll over states to next time step\n",
    "        if np.any(dones):                                  # exit loop if episode finished\n",
    "            break\n",
    "    print('Score (max over agents) from episode {}: {}'.format(i, np.max(scores)))"
   ]
  },
  {
   "cell_type": "code",
   "execution_count": 7,
   "metadata": {},
   "outputs": [],
   "source": [
    "env.close()"
   ]
  },
  {
   "cell_type": "code",
   "execution_count": null,
   "metadata": {},
   "outputs": [],
   "source": []
  }
 ],
 "metadata": {
  "kernelspec": {
   "display_name": "Python 3.6.12 64-bit ('deepRL': conda)",
   "language": "python",
   "name": "python361264bitdeeprlconda909f37425a5143d2b5b49eabedb2475e"
  },
  "language_info": {
   "codemirror_mode": {
    "name": "ipython",
    "version": 3
   },
   "file_extension": ".py",
   "mimetype": "text/x-python",
   "name": "python",
   "nbconvert_exporter": "python",
   "pygments_lexer": "ipython3",
   "version": "3.6.12"
  }
 },
 "nbformat": 4,
 "nbformat_minor": 4
}
