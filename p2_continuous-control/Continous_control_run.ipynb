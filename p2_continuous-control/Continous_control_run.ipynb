{
 "cells": [
  {
   "cell_type": "markdown",
   "metadata": {},
   "source": [
    "# Continuous Control Run\n",
    "\n",
    "---\n",
    "\n",
    "In this notebook, you can run a trained Agents in the Reacher. Unity ML-Agents \n",
    "\n",
    "### 1. Start the Environment\n",
    "\n",
    "We begin by importing the necessary packages.  If the code cell below returns an error, please revisit the project instructions to double-check that you have installed [Unity ML-Agents](https://github.com/Unity-Technologies/ml-agents/blob/master/docs/Installation.md) and [NumPy](http://www.numpy.org/).\n",
    "\n",
    "Select which environment you want to start:\n",
    "env = UnityEnvironment(file_name='Reacher_single.app')\n",
    "env = UnityEnvironment(file_name='Reacher_20.app')"
   ]
  },
  {
   "cell_type": "code",
   "execution_count": null,
   "metadata": {},
   "outputs": [],
   "source": [
    "from unityagents import UnityEnvironment\n",
    "import numpy as np\n",
    "\n",
    "\n",
    "env = UnityEnvironment(file_name='Reacher_20.app')"
   ]
  },
  {
   "cell_type": "code",
   "execution_count": null,
   "metadata": {},
   "outputs": [],
   "source": [
    "# get the default brain\n",
    "brain_name = env.brain_names[0]\n",
    "brain = env.brains[brain_name]"
   ]
  },
  {
   "cell_type": "markdown",
   "metadata": {},
   "source": [
    "## 2. Load a trained agent\n",
    "Pick your favorite agent.\n",
    "You can choose from the checkpoint folder"
   ]
  },
  {
   "cell_type": "code",
   "execution_count": null,
   "metadata": {},
   "outputs": [],
   "source": [
    "import os.path\n",
    "\n",
    "def restore_agent(actor_name, filepath_local_actor, filepath_local_critic, filepath_target_actor, filepath_target_critic):\n",
    "    # function to read and load saved weights into agent networks\n",
    "    \n",
    "    checkpoint_local_actor = torch.load(filepath_local_actor, map_location=torch.device('cpu'))\n",
    "    checkpoint_local_critic = torch.load(filepath_local_critic, map_location=torch.device('cpu'))\n",
    "    checkpoint_target_actor = torch.load(filepath_target_actor, map_location=torch.device('cpu'))\n",
    "    checkpoint_target_critic = torch.load(filepath_target_critic, map_location=torch.device('cpu'))\n",
    "    \n",
    "    if actor_name == 'ddpg':\n",
    "        loaded_agent = Agent(state_size, action_size, random_seed = 33)\n",
    "    elif actor_name == 'td3':\n",
    "        loaded_agent = Agent(state_size, action_size, random_seed = 33, policy_noise=0.2)\n",
    "    \n",
    "    loaded_agent.actor_local.load_state_dict(checkpoint_local_actor)\n",
    "    loaded_agent.actor_target.load_state_dict(checkpoint_target_actor)\n",
    "    loaded_agent.critic_local.load_state_dict(checkpoint_local_critic)\n",
    "    loaded_agent.critic_target.load_state_dict(checkpoint_target_critic)\n",
    "    \n",
    "    return loaded_agent"
   ]
  },
  {
   "cell_type": "markdown",
   "metadata": {},
   "source": [
    "### 3. Let's run\n",
    "\n",
    "Note you must select the train_mode = False"
   ]
  },
  {
   "cell_type": "code",
   "execution_count": null,
   "metadata": {},
   "outputs": [],
   "source": [
    "# reset the environment\n",
    "env_info = env.reset(train_mode=False)[brain_name]\n",
    "\n",
    "# number of agents\n",
    "num_agents = len(env_info.agents)\n",
    "print('Number of agents:', num_agents)\n",
    "\n",
    "# size of each action\n",
    "action_size = brain.vector_action_space_size\n",
    "print('Size of each action:', action_size)\n",
    "\n",
    "# examine the state space \n",
    "states = env_info.vector_observations\n",
    "state_size = states.shape[1]\n",
    "print('There are {} agents. Each observes a state with length: {}'.format(states.shape[0], state_size))\n",
    "print('The state for the first agent looks like:', states[0])"
   ]
  },
  {
   "cell_type": "markdown",
   "metadata": {},
   "source": [
    "## TD3 \n",
    "Here i load a TD3 agent but you can choose which one you prefer"
   ]
  },
  {
   "cell_type": "code",
   "execution_count": null,
   "metadata": {},
   "outputs": [],
   "source": [
    "from actors.td3_actor import Agent\n",
    "from collections import deque\n",
    "import torch\n",
    "\n",
    "agent_name = 'checkpoints/agent_td3_20'\n",
    "critic_name = 'checkpoints/critic_td3_20'\n",
    "\n",
    "local_actor_path = agent_name+'_ckpt_local.pth'\n",
    "target_actor_path = agent_name+'_ckpt_target.pth'\n",
    "local_critic_path = critic_name+'_ckpt_local.pth'\n",
    "target_critic_path = critic_name+'_ckpt_target.pth'\n",
    "\n",
    "        \n",
    "# if checkpoint exists we load the agent\n",
    "if os.path.isfile(local_actor_path):\n",
    "    agent = restore_agent('td3', local_actor_path, local_critic_path, target_actor_path, target_critic_path)\n",
    "    print(\"Agent loaded.\") \n",
    "else:\n",
    "    print(\"Error no agent with the specified name\")"
   ]
  },
  {
   "cell_type": "code",
   "execution_count": null,
   "metadata": {},
   "outputs": [],
   "source": [
    "env_info = env.reset(train_mode=False)[brain_name]     # reset the environment    \n",
    "states = env_info.vector_observations                  # get the current state (for each agent)\n",
    "scores = np.zeros(num_agents)                          # initialize the score (for each agent)\n",
    "while True:\n",
    "    actions = agent.act(states, add_noise=False)             \n",
    "    env_info = env.step(actions)[brain_name]           # send all actions to tne environment\n",
    "    next_states = env_info.vector_observations         # get next state (for each agent)\n",
    "    rewards = env_info.rewards                         # get reward (for each agent)\n",
    "    dones = env_info.local_done                        # see if episode finished\n",
    "    scores += env_info.rewards                         # update the score (for each agent)\n",
    "    states = next_states                               # roll over states to next time step\n",
    "    if np.any(dones):                                  # exit loop if episode finished\n",
    "        break\n",
    "print('Total score (averaged over agents) this episode: {}'.format(np.mean(scores)))"
   ]
  },
  {
   "cell_type": "code",
   "execution_count": null,
   "metadata": {},
   "outputs": [],
   "source": [
    "env.close()"
   ]
  }
 ],
 "metadata": {
  "kernelspec": {
   "display_name": "Python [default]",
   "language": "python",
   "name": "python3"
  },
  "language_info": {
   "codemirror_mode": {
    "name": "ipython",
    "version": 3
   },
   "file_extension": ".py",
   "mimetype": "text/x-python",
   "name": "python",
   "nbconvert_exporter": "python",
   "pygments_lexer": "ipython3",
   "version": "3.5.4"
  }
 },
 "nbformat": 4,
 "nbformat_minor": 4
}
