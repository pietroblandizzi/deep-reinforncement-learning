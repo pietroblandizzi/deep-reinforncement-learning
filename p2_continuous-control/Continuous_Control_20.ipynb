{
 "cells": [
  {
   "cell_type": "markdown",
   "metadata": {},
   "source": [
    "# Continuous Control\n",
    "\n",
    "---\n",
    "\n",
    "In this notebook, you will learn how to use the Unity ML-Agents environment for the second project of the [Deep Reinforcement Learning Nanodegree](https://www.udacity.com/course/deep-reinforcement-learning-nanodegree--nd893) program.\n",
    "\n",
    "### 1. Start the Environment\n",
    "\n",
    "We begin by importing the necessary packages.  If the code cell below returns an error, please revisit the project instructions to double-check that you have installed [Unity ML-Agents](https://github.com/Unity-Technologies/ml-agents/blob/master/docs/Installation.md) and [NumPy](http://www.numpy.org/)."
   ]
  },
  {
   "cell_type": "code",
   "execution_count": null,
   "metadata": {},
   "outputs": [],
   "source": [
    "from unityagents import UnityEnvironment\n",
    "import numpy as np"
   ]
  },
  {
   "cell_type": "markdown",
   "metadata": {},
   "source": [
    "Next, we will start the environment!  **_Before running the code cell below_**, change the `file_name` parameter to match the location of the Unity environment that you downloaded.\n",
    "\n",
    "- **Mac**: `\"path/to/Reacher.app\"`\n",
    "- **Windows** (x86): `\"path/to/Reacher_Windows_x86/Reacher.exe\"`\n",
    "- **Windows** (x86_64): `\"path/to/Reacher_Windows_x86_64/Reacher.exe\"`\n",
    "- **Linux** (x86): `\"path/to/Reacher_Linux/Reacher.x86\"`\n",
    "- **Linux** (x86_64): `\"path/to/Reacher_Linux/Reacher.x86_64\"`\n",
    "- **Linux** (x86, headless): `\"path/to/Reacher_Linux_NoVis/Reacher.x86\"`\n",
    "- **Linux** (x86_64, headless): `\"path/to/Reacher_Linux_NoVis/Reacher.x86_64\"`\n",
    "\n",
    "For instance, if you are using a Mac, then you downloaded `Reacher.app`.  If this file is in the same folder as the notebook, then the line below should appear as follows:\n",
    "```\n",
    "env = UnityEnvironment(file_name=\"Reacher.app\")\n",
    "```"
   ]
  },
  {
   "cell_type": "code",
   "execution_count": null,
   "metadata": {},
   "outputs": [],
   "source": [
    "env = UnityEnvironment(file_name='Reacher_20.app')"
   ]
  },
  {
   "cell_type": "markdown",
   "metadata": {},
   "source": [
    "Environments contain **_brains_** which are responsible for deciding the actions of their associated agents. Here we check for the first brain available, and set it as the default brain we will be controlling from Python."
   ]
  },
  {
   "cell_type": "code",
   "execution_count": null,
   "metadata": {},
   "outputs": [],
   "source": [
    "# get the default brain\n",
    "brain_name = env.brain_names[0]\n",
    "brain = env.brains[brain_name]"
   ]
  },
  {
   "cell_type": "markdown",
   "metadata": {},
   "source": [
    "### 2. Examine the State and Action Spaces\n",
    "\n",
    "In this environment, a double-jointed arm can move to target locations. A reward of `+0.1` is provided for each step that the agent's hand is in the goal location. Thus, the goal of your agent is to maintain its position at the target location for as many time steps as possible.\n",
    "\n",
    "The observation space consists of `33` variables corresponding to position, rotation, velocity, and angular velocities of the arm.  Each action is a vector with four numbers, corresponding to torque applicable to two joints.  Every entry in the action vector must be a number between `-1` and `1`.\n",
    "\n",
    "Run the code cell below to print some information about the environment."
   ]
  },
  {
   "cell_type": "code",
   "execution_count": null,
   "metadata": {},
   "outputs": [],
   "source": [
    "# reset the environment\n",
    "env_info = env.reset(train_mode=True)[brain_name]\n",
    "\n",
    "# number of agents\n",
    "num_agents = len(env_info.agents)\n",
    "print('Number of agents:', num_agents)\n",
    "\n",
    "# size of each action\n",
    "action_size = brain.vector_action_space_size\n",
    "print('Size of each action:', action_size)\n",
    "\n",
    "# examine the state space \n",
    "states = env_info.vector_observations\n",
    "state_size = states.shape[1]\n",
    "print('There are {} agents. Each observes a state with length: {}'.format(states.shape[0], state_size))\n",
    "print('The state for the first agent looks like:', states[0])"
   ]
  },
  {
   "cell_type": "markdown",
   "metadata": {},
   "source": [
    "### 3. Take Random Actions in the Environment\n",
    "\n",
    "In the next code cell, you will learn how to use the Python API to control the agent and receive feedback from the environment.\n",
    "\n",
    "Once this cell is executed, you will watch the agent's performance, if it selects an action at random with each time step.  A window should pop up that allows you to observe the agent, as it moves through the environment.  \n",
    "\n",
    "Of course, as part of the project, you'll have to change the code so that the agent is able to use its experience to gradually choose better actions when interacting with the environment!"
   ]
  },
  {
   "cell_type": "code",
   "execution_count": null,
   "metadata": {},
   "outputs": [],
   "source": [
    "env_info = env.reset(train_mode=False)[brain_name]     # reset the environment    \n",
    "states = env_info.vector_observations                  # get the current state (for each agent)\n",
    "scores = np.zeros(num_agents)                          # initialize the score (for each agent)\n",
    "while True:\n",
    "    actions = np.random.randn(num_agents, action_size) # select an action (for each agent)\n",
    "    actions = np.clip(actions, -1, 1)                  # all actions between -1 and 1\n",
    "    env_info = env.step(actions)[brain_name]           # send all actions to tne environment\n",
    "    next_states = env_info.vector_observations         # get next state (for each agent)\n",
    "    rewards = env_info.rewards                         # get reward (for each agent)\n",
    "    dones = env_info.local_done                        # see if episode finished\n",
    "    scores += env_info.rewards                         # update the score (for each agent)\n",
    "    states = next_states                               # roll over states to next time step\n",
    "    if np.any(dones):                                  # exit loop if episode finished\n",
    "        break\n",
    "print('Total score (averaged over agents) this episode: {}'.format(np.mean(scores)))"
   ]
  },
  {
   "cell_type": "markdown",
   "metadata": {},
   "source": [
    "When finished, you can close the environment."
   ]
  },
  {
   "cell_type": "code",
   "execution_count": null,
   "metadata": {},
   "outputs": [],
   "source": [
    "env.close()"
   ]
  },
  {
   "cell_type": "markdown",
   "metadata": {},
   "source": [
    "### 4. It's Your Turn!\n",
    "\n",
    "Now it's your turn to train your own agent to solve the environment!  When training the environment, set `train_mode=True`, so that the line for resetting the environment looks like the following:\n",
    "```python\n",
    "env_info = env.reset(train_mode=True)[brain_name]\n",
    "```"
   ]
  },
  {
   "cell_type": "code",
   "execution_count": null,
   "metadata": {},
   "outputs": [],
   "source": [
    "from unityagents import UnityEnvironment\n",
    "import numpy as np\n",
    "\n",
    "env = UnityEnvironment(file_name='Reacher_20.app')"
   ]
  },
  {
   "cell_type": "code",
   "execution_count": null,
   "metadata": {},
   "outputs": [],
   "source": [
    "# get the default brain\n",
    "brain_name = env.brain_names[0]\n",
    "brain = env.brains[brain_name]"
   ]
  },
  {
   "cell_type": "code",
   "execution_count": null,
   "metadata": {},
   "outputs": [],
   "source": [
    "import os.path\n",
    "\n",
    "def restore_agent(actor_name, filepath_local_actor, filepath_local_critic, filepath_target_actor, filepath_target_critic):\n",
    "    # function to read and load saved weights into agent networks\n",
    "    \n",
    "    checkpoint_local_actor = torch.load(filepath_local_actor)\n",
    "    checkpoint_local_critic = torch.load(filepath_local_critic)\n",
    "    checkpoint_target_actor = torch.load(filepath_target_actor)\n",
    "    checkpoint_target_critic = torch.load(filepath_target_critic)\n",
    "    \n",
    "    if actor_name == 'ddpg':\n",
    "        loaded_agent = Agent(state_size, action_size, random_seed = 33)\n",
    "    elif actor_name == 'td3':\n",
    "        loaded_agent = Agent(state_size, action_size, random_seed = 33, policy_noise=0.2)\n",
    "    elif actor_name == 'd4pg':\n",
    "        loaded_agent = Agent(state_size, action_size, random_seed = 33)\n",
    "    \n",
    "    loaded_agent.actor_local.load_state_dict(checkpoint_local_actor)\n",
    "    loaded_agent.actor_target.load_state_dict(checkpoint_target_actor)\n",
    "    loaded_agent.critic_local.load_state_dict(checkpoint_local_critic)\n",
    "    loaded_agent.critic_target.load_state_dict(checkpoint_target_critic)\n",
    "    \n",
    "    return loaded_agent"
   ]
  },
  {
   "cell_type": "code",
   "execution_count": null,
   "metadata": {},
   "outputs": [],
   "source": [
    "from collections import deque\n",
    "import torch\n",
    "\n",
    "def run_experiment(agent, n_episodes=2000, max_t=10000, agent_ckp_prefix='agent', critic_ckp_prefix='critic'):\n",
    "    \n",
    "    scores_deque = deque(maxlen=100)\n",
    "    rolling_average_score = []\n",
    "    scores = []\n",
    "    \n",
    "    for i_episode in range(1, n_episodes+1):\n",
    "        env_info = env.reset(train_mode=True)[brain_name]     # reset the environment    \n",
    "        states = env_info.vector_observations                 # get the current state\n",
    "        score = np.zeros(num_agents)\n",
    "        agent.reset()                                         # reset the agent\n",
    "        for t in range(max_t):\n",
    "            actions = agent.act(states, add_noise=False)        \n",
    "             \n",
    "            env_info = env.step(actions)[brain_name]              # send all actions to tne environment\n",
    "            next_states = env_info.vector_observations            # get next state (for each agent)\n",
    "            rewards = env_info.rewards                            # get reward (for each agent)\n",
    "            dones = env_info.local_done                           # see if episode finished                \n",
    "  \n",
    "            for state, action, reward, next_state, done in zip(states, actions, rewards, next_states, dones):\n",
    "                agent.step(state, action, reward, next_state, done, t)\n",
    "\n",
    "            states = next_states\n",
    "            score += rewards\n",
    "            \n",
    "            if np.any(dones):\n",
    "                break\n",
    "        \n",
    "        score = np.mean(score)\n",
    "        scores_deque.append(score)\n",
    "        rolling_average_score.append(np.mean(scores_deque))\n",
    "        scores.append(score)\n",
    "          \n",
    "        print('\\rEpisode {}\\tAverage Score: {:.2f}\\tScore: {:.2f}'.format(i_episode, \n",
    "                                                                          np.mean(scores_deque), \n",
    "                                                                          score), end='')\n",
    "        \n",
    "        if i_episode % 10 == 0:   \n",
    "            print('\\rSave_agent\\r')\n",
    "            torch.save(agent.actor_local.state_dict(), agent_ckp_prefix+'_ckpt_local.pth')                 # save local actor\n",
    "            torch.save(agent.actor_target.state_dict(), agent_ckp_prefix+'_ckpt_target.pth')               # save target actor \n",
    "            torch.save(agent.critic_local.state_dict(), critic_ckp_prefix+'_ckpt_local.pth')               # save local critic\n",
    "            torch.save(agent.critic_target.state_dict(), critic_ckp_prefix+'_ckpt_target.pth')             # target critic\n",
    "        if i_episode % 100 == 0:\n",
    "            print('\\rEpisode {}\\tAverage Score: {:.2f}'.format(i_episode, np.mean(scores_deque))) \n",
    "        if np.mean(scores_deque)>= 30.0 and i_episode > 100:\n",
    "            torch.save(agent.actor_local.state_dict(), agent_ckp_prefix+'_ckpt_local.pth')                 # save local actor\n",
    "            torch.save(agent.actor_target.state_dict(), agent_ckp_prefix+'_ckpt_target.pth')               # save target actor \n",
    "            torch.save(agent.critic_local.state_dict(), critic_ckp_prefix+'_ckpt_local.pth')               # save local critic\n",
    "            torch.save(agent.critic_target.state_dict(), critic_ckp_prefix+'_ckpt_target.pth')       \n",
    "            print('\\rEnvironment solved Episode {}\\tAverage Score: {:.2f}'.format(i_episode, np.mean(scores_deque))) \n",
    "            break\n",
    "    return scores, rolling_average_score"
   ]
  },
  {
   "cell_type": "code",
   "execution_count": null,
   "metadata": {},
   "outputs": [],
   "source": [
    "# reset the environment\n",
    "env_info = env.reset(train_mode=True)[brain_name]\n",
    "\n",
    "# number of agents\n",
    "num_agents = len(env_info.agents)\n",
    "print('Number of agents:', num_agents)\n",
    "\n",
    "# size of each action\n",
    "action_size = brain.vector_action_space_size\n",
    "print('Size of each action:', action_size)\n",
    "\n",
    "# examine the state space \n",
    "states = env_info.vector_observations\n",
    "state_size = states.shape[1]\n",
    "print('There are {} agents. Each observes a state with length: {}'.format(states.shape[0], state_size))\n",
    "print('The state for the first agent looks like:', states[0])"
   ]
  },
  {
   "cell_type": "markdown",
   "metadata": {},
   "source": [
    "## DDPG\n",
    "\n",
    "The first algorithm will be a standard DDPG as found in the examples from the \n",
    "Udacity DeepLearning NanoDegree: https://github.com/udacity/deep-reinforcement-learning/tree/master/ddpg-bipedal\n",
    "\n",
    "It will be adapted to solve the Reacher environment"
   ]
  },
  {
   "cell_type": "code",
   "execution_count": null,
   "metadata": {},
   "outputs": [],
   "source": [
    "from actors.ddpg_actor import Agent\n",
    "\n",
    "agent_name = 'checkpoints/agent_ddpg_20'\n",
    "critic_name = 'checkpoints/critic_ddpg_20'\n",
    "\n",
    "local_actor_path = agent_name+'_ckpt_local.pth'\n",
    "target_actor_path = agent_name+'_ckpt_target.pth'\n",
    "local_critic_path = critic_name+'_ckpt_local.pth'\n",
    "target_critic_path = critic_name+'_ckpt_target.pth'\n",
    "\n",
    "        \n",
    "# if checkpoint exists we load the agent \n",
    "if os.path.isfile(local_actor_path):\n",
    "    agent = restore_agent('ddpg', local_actor_path, local_critic_path, target_actor_path, target_critic_path)\n",
    "    print(\"Agent loaded.\") \n",
    "else:\n",
    "    agent = Agent(state_size, action_size, random_seed = 33)\n",
    "    print(\"Agent created.\")"
   ]
  },
  {
   "cell_type": "code",
   "execution_count": null,
   "metadata": {},
   "outputs": [],
   "source": [
    "scores, rolling_average= run_experiment(agent, agent_ckp_prefix=agent_name, critic_ckp_prefix=critic_name)"
   ]
  },
  {
   "cell_type": "code",
   "execution_count": null,
   "metadata": {},
   "outputs": [],
   "source": [
    "import matplotlib.pyplot as plt\n",
    "%matplotlib inline\n",
    "\n",
    "# plot scores across episodes\n",
    "fig = plt.figure()\n",
    "ax = fig.add_subplot(111)\n",
    "plt.plot(np.arange(len(scores)), scores, label='TD3')\n",
    "plt.plot(np.arange(len(scores)), rolling_average, c='r', label='Rolling AVG')\n",
    "plt.ylabel('Score')\n",
    "plt.xlabel('Episode #')\n",
    "plt.legend(loc='upper left');\n",
    "plt.show()"
   ]
  },
  {
   "cell_type": "code",
   "execution_count": null,
   "metadata": {},
   "outputs": [],
   "source": [
    "env.close()"
   ]
  },
  {
   "cell_type": "markdown",
   "metadata": {},
   "source": [
    "## TD3 \n",
    "The first improvement tried is the TD3 algorithm which essentially make 3 improvements to the DDPG.\n",
    "1. Twin network for the critic\n",
    "2. Add noise to actions used to compute targets\n",
    "3. Delayed updates of the policy\n",
    "\n",
    "Please restart the invirnonment before running the cells below"
   ]
  },
  {
   "cell_type": "code",
   "execution_count": null,
   "metadata": {},
   "outputs": [],
   "source": [
    "from actors.td3_actor import Agent\n",
    "\n",
    "agent_name = 'checkpoints/agent_td3_20'\n",
    "critic_name = 'checkpoints/critic_td3_20'\n",
    "\n",
    "local_actor_path = agent_name+'_ckpt_local.pth'\n",
    "target_actor_path = agent_name+'_ckpt_target.pth'\n",
    "local_critic_path = critic_name+'_ckpt_local.pth'\n",
    "target_critic_path = critic_name+'_ckpt_target.pth'\n",
    "\n",
    "        \n",
    "# if checkpoint exists we load the agent\n",
    "if os.path.isfile(local_actor_path):\n",
    "    agent = restore_agent('td3', local_actor_path, local_critic_path, target_actor_path, target_critic_path)\n",
    "    print(\"Agent loaded.\") \n",
    "else:\n",
    "    agent = Agent(state_size, action_size, random_seed = 33)\n",
    "    print(\"Agent created.\")"
   ]
  },
  {
   "cell_type": "code",
   "execution_count": null,
   "metadata": {},
   "outputs": [],
   "source": [
    "# run\n",
    "scores, rolling_average = run_experiment(agent, agent_ckp_prefix=agent_name, critic_ckp_prefix=critic_name)"
   ]
  },
  {
   "cell_type": "code",
   "execution_count": null,
   "metadata": {},
   "outputs": [],
   "source": [
    "import matplotlib.pyplot as plt\n",
    "%matplotlib inline\n",
    "\n",
    "# plot scores across episodes\n",
    "fig = plt.figure()\n",
    "ax = fig.add_subplot(111)\n",
    "plt.plot(np.arange(len(scores)), scores, label='TD3')\n",
    "plt.plot(np.arange(len(scores)), rolling_average, c='r', label='Rolling AVG')\n",
    "plt.ylabel('Score')\n",
    "plt.xlabel('Episode #')\n",
    "plt.legend(loc='upper left');\n",
    "plt.show()"
   ]
  },
  {
   "cell_type": "code",
   "execution_count": null,
   "metadata": {},
   "outputs": [],
   "source": [
    "env.close()"
   ]
  },
  {
   "cell_type": "markdown",
   "metadata": {},
   "source": [
    "## D4PG\n",
    "State of the art improvements over DDPG\n",
    "\n",
    "\n",
    "Please restart the invirnonment before running the cells below"
   ]
  },
  {
   "cell_type": "code",
   "execution_count": null,
   "metadata": {},
   "outputs": [],
   "source": [
    "from actors.d4pg_actor import Agent\n",
    "import os.path\n",
    "\n",
    "agent_name = 'checkpoints/agent_d4pg_20'\n",
    "critic_name = 'checkpoints/critic_d4pg_20'\n",
    "\n",
    "local_actor_path = agent_name+'_ckpt_local.pth'\n",
    "target_actor_path = agent_name+'_ckpt_target.pth'\n",
    "local_critic_path = critic_name+'_ckpt_local.pth'\n",
    "target_critic_path = critic_name+'_ckpt_target.pth'\n",
    "\n",
    "        \n",
    "# if checkpoint exists we load the agent\n",
    "if os.path.isfile(local_actor_path):\n",
    "    agent = restore_agent('d4pg', local_actor_path, local_critic_path, target_actor_path, target_critic_path)\n",
    "    print(\"Agent loaded.\") \n",
    "else:\n",
    "    agent = Agent(state_size, action_size, random_seed = 33)\n",
    "    print(\"Agent created.\")"
   ]
  },
  {
   "cell_type": "code",
   "execution_count": null,
   "metadata": {},
   "outputs": [],
   "source": [
    "# run\n",
    "scores, rolling_average = run_experiment(agent, agent_ckp_prefix=agent_name, critic_ckp_prefix=critic_name)"
   ]
  },
  {
   "cell_type": "code",
   "execution_count": null,
   "metadata": {},
   "outputs": [],
   "source": [
    "import matplotlib.pyplot as plt\n",
    "%matplotlib inline\n",
    "\n",
    "# plot scores across episodes\n",
    "fig = plt.figure()\n",
    "ax = fig.add_subplot(111)\n",
    "plt.plot(np.arange(len(scores)), scores, label='D4PG')\n",
    "plt.plot(np.arange(len(scores)), rolling_average, c='r', label='Rolling AVG')\n",
    "plt.ylabel('Score')\n",
    "plt.xlabel('Episode #')\n",
    "plt.legend(loc='upper left');\n",
    "plt.show()"
   ]
  },
  {
   "cell_type": "code",
   "execution_count": null,
   "metadata": {},
   "outputs": [],
   "source": [
    "env.close()"
   ]
  },
  {
   "cell_type": "code",
   "execution_count": null,
   "metadata": {},
   "outputs": [],
   "source": []
  }
 ],
 "metadata": {
  "kernelspec": {
   "display_name": "Python [default]",
   "language": "python",
   "name": "python3"
  },
  "language_info": {
   "codemirror_mode": {
    "name": "ipython",
    "version": 3
   },
   "file_extension": ".py",
   "mimetype": "text/x-python",
   "name": "python",
   "nbconvert_exporter": "python",
   "pygments_lexer": "ipython3",
   "version": "3.5.4"
  }
 },
 "nbformat": 4,
 "nbformat_minor": 4
}
